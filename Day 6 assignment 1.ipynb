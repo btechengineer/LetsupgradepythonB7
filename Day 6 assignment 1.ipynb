{
 "cells": [
  {
   "cell_type": "code",
   "execution_count": 2,
   "metadata": {},
   "outputs": [],
   "source": [
    "class BankAccount :\n",
    "    def __init__(self, name, balance):\n",
    "        self.owner_name = name\n",
    "        self.balance = balance\n",
    "    def deposite(self,amount):\n",
    "        self.balance += amount\n",
    "        print(\"Successfully deposite\")\n",
    "    def withdraw(self, amount):\n",
    "        if amount <= self.balance:\n",
    "            self.balance -= amount\n",
    "            print(\"withdrawl successfull\")\n",
    "        else:\n",
    "            print(\"withdrawl Unsuccessfull\")"
   ]
  },
  {
   "cell_type": "code",
   "execution_count": 3,
   "metadata": {},
   "outputs": [
    {
     "name": "stdout",
     "output_type": "stream",
     "text": [
      "Successfully deposite\n",
      "withdrawl successfull\n",
      "withdrawl successfull\n"
     ]
    }
   ],
   "source": [
    "a = BankAccount(\"Shubham\", 30000)\n",
    "a.deposite(4000)\n",
    "a.withdraw(2000)\n",
    "a.withdraw(20000)"
   ]
  },
  {
   "cell_type": "code",
   "execution_count": null,
   "metadata": {},
   "outputs": [],
   "source": []
  }
 ],
 "metadata": {
  "kernelspec": {
   "display_name": "Python 3",
   "language": "python",
   "name": "python3"
  },
  "language_info": {
   "codemirror_mode": {
    "name": "ipython",
    "version": 3
   },
   "file_extension": ".py",
   "mimetype": "text/x-python",
   "name": "python",
   "nbconvert_exporter": "python",
   "pygments_lexer": "ipython3",
   "version": "3.8.3"
  }
 },
 "nbformat": 4,
 "nbformat_minor": 4
}
