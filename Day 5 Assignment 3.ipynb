{
 "cells": [
  {
   "cell_type": "code",
   "execution_count": 2,
   "metadata": {},
   "outputs": [
    {
     "name": "stdout",
     "output_type": "stream",
     "text": [
      "['Hey, This Is Shubham', 'Lets Upgrade']\n"
     ]
    }
   ],
   "source": [
    "list_sent = [\"Hey, this is shubham\", \"Lets upgrade\"]\n",
    "\n",
    "capitalize_sentence = lambda x:x.title()\n",
    "for i, sentence in enumerate(list_sent):\n",
    "    list_sent[i] = capitalize_sentence(sentence)\n",
    "    \n",
    "print(list_sent)"
   ]
  },
  {
   "cell_type": "code",
   "execution_count": null,
   "metadata": {},
   "outputs": [],
   "source": []
  }
 ],
 "metadata": {
  "kernelspec": {
   "display_name": "Python 3",
   "language": "python",
   "name": "python3"
  },
  "language_info": {
   "codemirror_mode": {
    "name": "ipython",
    "version": 3
   },
   "file_extension": ".py",
   "mimetype": "text/x-python",
   "name": "python",
   "nbconvert_exporter": "python",
   "pygments_lexer": "ipython3",
   "version": "3.8.3"
  }
 },
 "nbformat": 4,
 "nbformat_minor": 4
}
